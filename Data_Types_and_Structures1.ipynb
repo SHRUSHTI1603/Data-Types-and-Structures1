{
  "nbformat": 4,
  "nbformat_minor": 0,
  "metadata": {
    "colab": {
      "provenance": []
    },
    "kernelspec": {
      "name": "python3",
      "display_name": "Python 3"
    },
    "language_info": {
      "name": "python"
    }
  },
  "cells": [
    {
      "cell_type": "markdown",
      "source": [
        "1. What are data structures, and why are they important?\n",
        "\n",
        "    - Data structures are specialized formats for organizing, storing, and accessing collections of data. They provide efficient ways to manage information based on its characteristics and intended use.\n",
        "\n",
        "    - Think of them as containers that hold your data and determine how you can interact with it. Different containers are better suited for different types of items.\n",
        "\n",
        "    Important for :\n",
        "\n",
        "    - Choosing the right data structure significantly impacts the efficiency and performance of your program.\n",
        "\n",
        "    - Well-chosen data structures can:\n",
        "\n",
        "     Simplify data manipulation (adding, removing, modifying elements).\n",
        "\n",
        "     Optimize searching and sorting operations.\n",
        "\n",
        "     Conserve memory usage."
      ],
      "metadata": {
        "id": "Fmj404n3YS85"
      }
    },
    {
      "cell_type": "markdown",
      "source": [],
      "metadata": {
        "id": "e_4aplaoGPMU"
      }
    },
    {
      "cell_type": "markdown",
      "source": [
        "2.  Explain the difference between mutable and immutable data types with examples.\n",
        "\n",
        "    - The main difference between mutable and immutable data types in Python is:\n",
        "\n",
        "    - Mutable data types: Can be changed after they are created.\n",
        "\n",
        "    - Immutable data types: Cannot be changed after they are created. Any operation that modifies them actually creates a new object.\n",
        "\n",
        "    Mutable Data Types Examples:-  \n",
        "      List,\n",
        "      Dictionary,\n",
        "      Set.\n",
        "\n",
        "    Immutable Data Types Examples:-  \n",
        "    int,\n",
        "    float,\n",
        "    str (string),\n",
        "    tuple.\n",
        "\n"
      ],
      "metadata": {
        "id": "LdIFKGxbZ353"
      }
    },
    {
      "cell_type": "markdown",
      "source": [
        "3. What are the main differences between lists and tuples in Python?\n",
        "\n",
        "            List: Mutable - you can change, add, or remove items.\n",
        "            Created using square brackets [ ].\n",
        "            Slower because they are mutable.\n",
        "            When you need to modify data (e.g., adding/removing elements).\n",
        "            Lists have many built-in methods: append(), remove(), pop(), etc.\n",
        "           \n",
        "            Tuple: Immutable - once created, it cannot be changed.\n",
        "            Created using parentheses ( ).\n",
        "            Faster because they are immutable and use less memory.\n",
        "            When you want fixed data (e.g., coordinates, constant values).\n",
        "            Tuples have only two: count() and index().\n",
        "\n"
      ],
      "metadata": {
        "id": "IuX6YG_ysBPK"
      }
    },
    {
      "cell_type": "markdown",
      "source": [
        "4.  Describe how dictionaries store data?\n",
        "\n",
        "    -> A dictionary in Python is a collection of key-value pairs. Each key is unique, and each key is associated with a value. You can think of it like a real-life dictionary where a word (key) is linked to its definition (value)."
      ],
      "metadata": {
        "id": "AJQB2U1ouciN"
      }
    },
    {
      "cell_type": "code",
      "source": [
        "# Creating a dictionary\n",
        "student = {\n",
        "    \"name\": \"Samiksha\",\n",
        "    \"age\": 13,\n",
        "    \"grade\": \"8th\"\n",
        "}\n",
        "\n",
        "# Accessing data using the key\n",
        "print(student[\"name\"])\n",
        "print(student[\"age\"])"
      ],
      "metadata": {
        "colab": {
          "base_uri": "https://localhost:8080/"
        },
        "id": "f8SgUqY5ve_R",
        "outputId": "56e26ddf-4dca-4d0f-fb92-a23231e9d6d4"
      },
      "execution_count": null,
      "outputs": [
        {
          "output_type": "stream",
          "name": "stdout",
          "text": [
            "Samiksha\n",
            "13\n"
          ]
        }
      ]
    },
    {
      "cell_type": "markdown",
      "source": [
        "5. Why might you use a set instead of a list in Python?\n",
        "\n",
        "    - I might use a set instead of a list when I need to store only unique values and perform quick operations like union, intersection, or difference. Sets are unordered, automatically remove duplicates, and are faster for checking if an item exists. They help when I want to avoid repeated data and care more about presence than order.\n",
        "\n",
        "   -  I use a list when I need ordered data, allow duplicates, or want to access items by their position (index)."
      ],
      "metadata": {
        "id": "UBGgP1uovpL5"
      }
    },
    {
      "cell_type": "markdown",
      "source": [
        "6. P What is a string in Python, and how is it different from a list?\n",
        "\n",
        "    A string in Python is a sequence of characters enclosed in single quotes (') or double quotes (\"). Strings are used to store and work with text data.\n",
        "\n",
        "    Difference Between a String and a List :\n",
        "\n",
        "  -  Data Type:\n",
        "   A string holds only text (characters), while a list can hold any data type, such as numbers, strings, or even other lists.\n",
        "\n",
        "   - Mutability:\n",
        "   A string is immutable, meaning you cannot change its characters after it's created. A list is mutable, so you can change, add, or remove elements.\n",
        "\n",
        "   - Syntax:\n",
        "   Strings are written inside quotes, like \"Hello\". Lists are written inside square brackets, like [1, 2, 3].\n",
        "\n",
        "  -  Use Case:\n",
        "   Use a string when you're working with text data. Use a list when you need to store a collection of multiple items.\n",
        "\n",
        "  -  Indexing:\n",
        "   Both strings and lists support indexing, meaning you can access individual characters or items using their position (e.g., name[0] or my_list[0])."
      ],
      "metadata": {
        "id": "vgh5yV0_pb3d"
      }
    },
    {
      "cell_type": "markdown",
      "source": [
        "7.  How do tuples ensure data integrity in Python?\n",
        "\n",
        "    - A tuple in Python is a group of items stored together.\n",
        "\n",
        "    - It uses round brackets like this: (1, 2, 3).\n",
        "\n",
        "    - Tuples are immutable, which means:\n",
        "\n",
        "    - You cannot add items.\n",
        "\n",
        "    - You cannot remove items.\n",
        "\n",
        "    - You cannot change items.\n",
        "\n",
        "    - This helps keep the data safe and unchanged.\n",
        "\n",
        "    - It ensures the original data stays correct and reliable."
      ],
      "metadata": {
        "id": "7puqgYqcrJjS"
      }
    },
    {
      "cell_type": "markdown",
      "source": [
        "8. What is a hash table, and how does it relate to dictionaries in Python ?\n",
        "\n",
        "  -  A hash table is a data structure that stores data using key-value pairs.\n",
        "\n",
        "  -  It uses a hash function to convert keys into a unique index to store values.\n",
        "\n",
        "   - This makes data lookup very fast, even with large amounts of data.\n",
        "\n",
        "  -  In Python, the dictionary (dict) is built using a hash table.\n",
        "\n",
        "  -  So when you use a dictionary, Python uses a hash table behind the scenes to store and access data efficiently.\n",
        "  "
      ],
      "metadata": {
        "id": "4G9IAqVLs8S1"
      }
    },
    {
      "cell_type": "markdown",
      "source": [
        "9. Can lists contain different data types in Python?\n",
        "\n",
        "    Yes, lists in Python can contain different data types. A list is a collection that can store items of any data type, including integers, strings, floats, and even other lists or objects.\n",
        "\n",
        "    In this example, the list contains:\n",
        "\n",
        "    - An integer (25)\n",
        "\n",
        "    - A string (\"Hello\")\n",
        "\n",
        "    - A float (3.14)\n",
        "\n",
        "    - A boolean (True)\n",
        "\n",
        "    - A nested list ([1, 2, 3])"
      ],
      "metadata": {
        "id": "8XX5oMUIvFfW"
      }
    },
    {
      "cell_type": "code",
      "source": [
        "my_list = [25, \"Hello\", 3.14, True, [1, 2, 3]]\n",
        "print(my_list)"
      ],
      "metadata": {
        "colab": {
          "base_uri": "https://localhost:8080/"
        },
        "id": "emL7g1UawQNp",
        "outputId": "470abe46-b487-4fd4-e5b0-8f47aec100c8"
      },
      "execution_count": null,
      "outputs": [
        {
          "output_type": "stream",
          "name": "stdout",
          "text": [
            "[25, 'Hello', 3.14, True, [1, 2, 3]]\n"
          ]
        }
      ]
    },
    {
      "cell_type": "markdown",
      "source": [
        "10. Explain why strings are immutable in Python.\n",
        "\n",
        "   -  Efficiency: Immutable strings allow Python to optimize memory usage and performance by reusing string objects.\n",
        "\n",
        "   -  Security: It prevents accidental changes to the string data, ensuring its integrity.\n",
        "\n",
        "   -  Hashing: Immutable objects can be used as keys in dictionaries and elements in sets because their value doesn’t change.\n",
        "\n",
        "   -  Consistency: Ensures that once a string is created, its content remains unchanged, which makes it predictable and safe for program logic."
      ],
      "metadata": {
        "id": "cNSMoTpiwsCw"
      }
    },
    {
      "cell_type": "markdown",
      "source": [
        "11. What advantages do dictionaries offer over lists for certain tasks?\n",
        "\n",
        "    -  Faster Lookups: Dictionaries provide faster access to values using keys, while lists require sequential searches.\n",
        "\n",
        "    -  Key-Value Pairing: In dictionaries, data is stored as key-value pairs, making it easier to associate and retrieve related information.\n",
        "\n",
        "    -  Uniqueness: Dictionary keys must be unique, ensuring there are no duplicates, unlike lists.\n",
        "\n",
        "    -  Memory Efficient: Dictionaries use hashing, making them more memory efficient for large datasets when compared to lists."
      ],
      "metadata": {
        "id": "bKcRJ3BG0RbE"
      }
    },
    {
      "cell_type": "markdown",
      "source": [
        "12.  Describe a scenario where using a tuple would be preferable over a list?\n",
        "\n",
        "    - Fixed Data: Use a tuple when the data should never change, like days of the week or GPS coordinates.\n",
        "\n",
        "    - Faster Performance: Tuples are faster than lists because of their immutability.\n",
        "\n",
        "   - Data Integrity: Tuples protect the data from accidental changes.\n",
        "\n",
        "   - Hashable: Tuples can be used as dictionary keys, while lists cannot.\n",
        "\n",
        "   - Readability: When a collection is meant to be constant, using a tuple clearly shows it won’t change."
      ],
      "metadata": {
        "id": "wpOD95RE119_"
      }
    },
    {
      "cell_type": "markdown",
      "source": [
        "13.  How do sets handle duplicate values in Python?\n",
        "   \n",
        "  -  Sets automatically remove duplicate values—they only keep unique elements.\n",
        "  -  Useful for removing repeated items from a list or any collection.\n",
        "  -  Since sets are unordered, they focus on value existence, not order or frequency.\n",
        "  - Perfect for union, intersection, and difference operations that need unique elements.\n",
        "  - You don't need to manually check for duplicates—Python does it for you when creating a set.\n",
        "  "
      ],
      "metadata": {
        "id": "QgNcPvSH7_1l"
      }
    },
    {
      "cell_type": "markdown",
      "source": [
        "14.  How does the “in” keyword work differently for lists and dictionaries?\n",
        "\n",
        "  For Lists:\n",
        "\n",
        "   - The in keyword checks if a value exists in the list.\n",
        "\n",
        "   - It searches through all elements.\n",
        "\n",
        "   For Dictionaries:\n",
        "\n",
        "   - The in keyword checks if a key exists, not values.\n",
        "\n",
        "   - It looks only at the keys in the dictionary.\n"
      ],
      "metadata": {
        "id": "UN3LT7M-892h"
      }
    },
    {
      "cell_type": "code",
      "source": [
        "my_list = [1, 2, 3]\n",
        "print(2 in my_list)\n",
        "print(4 in my_list)"
      ],
      "metadata": {
        "colab": {
          "base_uri": "https://localhost:8080/"
        },
        "id": "VB67WKk59xaH",
        "outputId": "1a4d7dd6-e640-4abf-8d75-9d66a88d9ef7"
      },
      "execution_count": null,
      "outputs": [
        {
          "output_type": "stream",
          "name": "stdout",
          "text": [
            "True\n",
            "False\n"
          ]
        }
      ]
    },
    {
      "cell_type": "code",
      "source": [
        "my_dict = {\"name\": \"Samiksha\", \"age\": 13}\n",
        "print(\"name\" in my_dict)\n",
        "print(\"Samiksha\" in my_dict)"
      ],
      "metadata": {
        "colab": {
          "base_uri": "https://localhost:8080/"
        },
        "id": "ThDPq81I90bW",
        "outputId": "105d5dd6-c1e6-42fc-a132-fc5dbb2b8796"
      },
      "execution_count": null,
      "outputs": [
        {
          "output_type": "stream",
          "name": "stdout",
          "text": [
            "True\n",
            "False\n"
          ]
        }
      ]
    },
    {
      "cell_type": "markdown",
      "source": [
        "15.  Can you modify the elements of a tuple? Explain why or why not.\n",
        "\n",
        "No, you cannot modify the elements of a tuple in Python.\n",
        "Because,\n",
        "   -  Tuples are immutable, meaning once they are created, their elements cannot be changed, added, or removed.\n",
        "\n",
        "   - This immutability helps in protecting data, making tuples useful for storing constant or fixed information.\n",
        "\n",
        "   - If you try to change a value in a tuple, Python will raise a TypeError.\n"
      ],
      "metadata": {
        "id": "exXJIqNI9_ye"
      }
    },
    {
      "cell_type": "markdown",
      "source": [
        "16.  What is a nested dictionary, and give an example of its use case ?\n",
        "\n",
        "    A nested dictionary is a dictionary inside another dictionary. It lets you store structured data in a hierarchical format—like a dictionary of dictionaries.\n",
        "\n",
        "\n"
      ],
      "metadata": {
        "id": "y_aUaSxH-2md"
      }
    },
    {
      "cell_type": "code",
      "source": [
        "# Use Case Example: Storing student records\n",
        "\n",
        "students = {\n",
        "    \"101\": {\"name\": \"Samiksha\", \"age\": 13, \"grade\": \"8A\"},\n",
        "    \"102\": {\"name\": \"Aarav\", \"age\": 14, \"grade\": \"8B\"}\n",
        "}\n",
        "\n",
        "#Accessing Data:\n",
        "\n",
        "print(students[\"101\"][\"name\"])"
      ],
      "metadata": {
        "colab": {
          "base_uri": "https://localhost:8080/"
        },
        "id": "ygJCb8xs_mDi",
        "outputId": "85bffeb1-8288-463c-a83f-378cd1f64e1b"
      },
      "execution_count": null,
      "outputs": [
        {
          "output_type": "stream",
          "name": "stdout",
          "text": [
            "Samiksha\n"
          ]
        }
      ]
    },
    {
      "cell_type": "markdown",
      "source": [
        "17.  Describe the time complexity of accessing elements in a dictionary?\n",
        "\n",
        "   - Average case: Accessing elements using a key takes O(1) time (constant time), due to Python’s hash table implementation.\n",
        "\n",
        "   - Worst case: Rarely, it may take O(n) if many keys hash to the same value (collision), but Python handles this efficiently internally.\n"
      ],
      "metadata": {
        "id": "tnjXohde_4SA"
      }
    },
    {
      "cell_type": "markdown",
      "source": [
        "18. In what situations are lists preferred over dictionaries?\n",
        "\n",
        "    - Use lists when the order of items is important (e.g., step-by-step instructions, sequences).\n",
        "\n",
        "    - Ideal for simple, single-value items like numbers, names, or tasks.\n",
        "\n",
        "   -  Lists are great when you need to access elements by position using indexes.\n",
        "\n",
        "   -  Easier and faster to loop through values when no key-value mapping is needed.\n",
        "\n",
        "    - Lists typically use less memory for small, ordered data compared to dictionaries.\n",
        "    \n"
      ],
      "metadata": {
        "id": "tHAxRmxkAqB-"
      }
    },
    {
      "cell_type": "markdown",
      "source": [
        "19. Why are dictionaries considered unordered, and how does that affect data retrieval?\n",
        "\n",
        "    - Original Behavior: Before Python 3.7, dictionaries were unordered, meaning key-value pairs had no fixed order.\n",
        "\n",
        "   -  Now Ordered (3.7+): From Python 3.7 onwards, they maintain insertion order, but this is still not their primary feature.\n",
        "\n",
        "    - Key-Based Access: Data retrieval is based on keys, not position, so order doesn't affect performance.\n",
        "\n",
        "    - No Indexing: You cannot access items by index like in lists.\n",
        "\n",
        "    - Use Case Impact: If order matters (like steps or ranks), a list or OrderedDict might be better.\n",
        "\n",
        "\n"
      ],
      "metadata": {
        "id": "2f8ESO_QBJLW"
      }
    },
    {
      "cell_type": "markdown",
      "source": [
        "20. Explain the difference between a list and a dictionary in terms of data retrieval.\n",
        "\n",
        "   List:\n",
        "    \n",
        "    - Data is retrieved by index (position).\n",
        "\n",
        "    - Example: my_list[0] returns the first item.\n",
        "\n",
        "    - Slower if you need to search by value (you must scan each item).\n",
        "\n",
        "    - Best for ordered collections where position matters.\n",
        "\n",
        "   Dictionary:\n",
        "    \n",
        "   -  Data is retrieved by key (not by position).\n",
        "\n",
        "   - Example: my_dict[\"name\"] returns the value linked to the \"name\" key.\n",
        "\n",
        "   - Very fast lookups using keys due to hashing.\n",
        "\n",
        "   - Best for structured data with labels (key-value pairs).\n",
        "\n",
        "    \n"
      ],
      "metadata": {
        "id": "nYFn6aAJYNj7"
      }
    },
    {
      "cell_type": "markdown",
      "source": [
        "# Practical Questions\n"
      ],
      "metadata": {
        "id": "gBD0Fm52bvQA"
      }
    },
    {
      "cell_type": "markdown",
      "source": [
        "1. Write a code to create a string with your name and print it."
      ],
      "metadata": {
        "id": "i-JW8t1Qbz8m"
      }
    },
    {
      "cell_type": "code",
      "source": [
        "# Creating a string with my name\n",
        "my_name = \"Shrushti Dilip Gaikwad\"\n",
        "\n",
        "# Printing the string\n",
        "print(\"My name is:\", my_name)"
      ],
      "metadata": {
        "colab": {
          "base_uri": "https://localhost:8080/"
        },
        "id": "8taQEvQYcLud",
        "outputId": "6c7b13bf-c2c9-49a1-a7d6-174e5482e2ac"
      },
      "execution_count": null,
      "outputs": [
        {
          "output_type": "stream",
          "name": "stdout",
          "text": [
            "My name is: Shrushti Dilip Gaikwad\n"
          ]
        }
      ]
    },
    {
      "cell_type": "markdown",
      "source": [
        "2. Write a code to find the length of the string \"Hello World\".\n"
      ],
      "metadata": {
        "id": "tFOJkTN9cYOG"
      }
    },
    {
      "cell_type": "code",
      "source": [
        "# Define the string\n",
        "text = \"Hello World\"\n",
        "\n",
        "# Find the length using len()\n",
        "length = len(text)\n",
        "\n",
        "# Print the result\n",
        "print(\"The length of the string is:\", length)"
      ],
      "metadata": {
        "colab": {
          "base_uri": "https://localhost:8080/"
        },
        "id": "aiqfqhHscbnt",
        "outputId": "030ef0d4-a786-44de-85a2-c6bc374111aa"
      },
      "execution_count": null,
      "outputs": [
        {
          "output_type": "stream",
          "name": "stdout",
          "text": [
            "The length of the string is: 11\n"
          ]
        }
      ]
    },
    {
      "cell_type": "markdown",
      "source": [
        "3. Write a code to slice the first 3 characters from the string \"Python Programming\".\n"
      ],
      "metadata": {
        "id": "G_dIRe5nclJ9"
      }
    },
    {
      "cell_type": "code",
      "source": [
        "# Define the string\n",
        "text = \"Python Programming\"\n",
        "\n",
        "# Slice the first 3 characters\n",
        "sliced_text = text[:3]\n",
        "\n",
        "# Print the result\n",
        "print(\"The first 3 characters are:\", sliced_text)"
      ],
      "metadata": {
        "colab": {
          "base_uri": "https://localhost:8080/"
        },
        "id": "w0vmKBxMcrlk",
        "outputId": "9e66fdfc-3df6-466c-ef2c-aebe7c69f27a"
      },
      "execution_count": null,
      "outputs": [
        {
          "output_type": "stream",
          "name": "stdout",
          "text": [
            "The first 3 characters are: Pyt\n"
          ]
        }
      ]
    },
    {
      "cell_type": "markdown",
      "source": [
        "4.  Write a code to convert the string \"hello\" to uppercase.\n"
      ],
      "metadata": {
        "id": "98c-mK9yc1pc"
      }
    },
    {
      "cell_type": "code",
      "source": [
        "# Define the string\n",
        "text = \"hello\"\n",
        "\n",
        "# Convert to uppercase\n",
        "uppercase_text = text.upper()\n",
        "\n",
        "# Print the result\n",
        "print(\"Uppercase version:\", uppercase_text)"
      ],
      "metadata": {
        "colab": {
          "base_uri": "https://localhost:8080/"
        },
        "id": "0BcFLrb9c5Ck",
        "outputId": "b69332e5-df2f-4c96-e53c-3de86619bbf2"
      },
      "execution_count": null,
      "outputs": [
        {
          "output_type": "stream",
          "name": "stdout",
          "text": [
            "Uppercase version: HELLO\n"
          ]
        }
      ]
    },
    {
      "cell_type": "markdown",
      "source": [
        "5.  Write a code to replace the word \"apple\" with \"orange\" in the string \"I like apple\".\n"
      ],
      "metadata": {
        "id": "G0CnNUqJdA6L"
      }
    },
    {
      "cell_type": "code",
      "source": [
        "# Define the string\n",
        "text = \"I like apple\"\n",
        "\n",
        "# Replace \"apple\" with \"orange\"\n",
        "new_text = text.replace(\"apple\", \"orange\")\n",
        "\n",
        "# Print the result\n",
        "print(\"Updated text:\", new_text)"
      ],
      "metadata": {
        "colab": {
          "base_uri": "https://localhost:8080/"
        },
        "id": "01Fr89aMdE4T",
        "outputId": "0fef63e9-181f-44fc-cf5e-b441f9bd727a"
      },
      "execution_count": null,
      "outputs": [
        {
          "output_type": "stream",
          "name": "stdout",
          "text": [
            "Updated text: I like orange\n"
          ]
        }
      ]
    },
    {
      "cell_type": "markdown",
      "source": [
        "6. Write a code to create a list with numbers 1 to 5 and print it.\n"
      ],
      "metadata": {
        "id": "wvvMZ3yudOwa"
      }
    },
    {
      "cell_type": "code",
      "source": [
        "# Create a list with numbers 1 to 5\n",
        "numbers = [1, 2, 3, 4, 5]\n",
        "\n",
        "# Print the list\n",
        "print(\"The list is:\", numbers)"
      ],
      "metadata": {
        "colab": {
          "base_uri": "https://localhost:8080/"
        },
        "id": "iArdVn03dTZ7",
        "outputId": "24322b9d-e018-40fc-bdd4-7d60d5c1723a"
      },
      "execution_count": null,
      "outputs": [
        {
          "output_type": "stream",
          "name": "stdout",
          "text": [
            "The list is: [1, 2, 3, 4, 5]\n"
          ]
        }
      ]
    },
    {
      "cell_type": "markdown",
      "source": [
        "7.  Write a code to append the number 10 to the list [1, 2, 3, 4].\n"
      ],
      "metadata": {
        "id": "3zLTm-oGdfRD"
      }
    },
    {
      "cell_type": "code",
      "source": [
        "# Define the list\n",
        "numbers = [1, 2, 3, 4]\n",
        "\n",
        "# Append the number 10 to the list\n",
        "numbers.append(10)\n",
        "\n",
        "# Print the updated list\n",
        "print(\"Updated list:\", numbers)"
      ],
      "metadata": {
        "colab": {
          "base_uri": "https://localhost:8080/"
        },
        "id": "JI9KlGF6dhx6",
        "outputId": "a2196b1d-2601-4207-ef22-38fd5b668484"
      },
      "execution_count": null,
      "outputs": [
        {
          "output_type": "stream",
          "name": "stdout",
          "text": [
            "Updated list: [1, 2, 3, 4, 10]\n"
          ]
        }
      ]
    },
    {
      "cell_type": "markdown",
      "source": [
        "8. Write a code to remove the number 3 from the list [1, 2, 3, 4, 5].\n"
      ],
      "metadata": {
        "id": "TrpWyWwudtP7"
      }
    },
    {
      "cell_type": "code",
      "source": [
        "# Define the list\n",
        "numbers = [1, 2, 3, 4, 5]\n",
        "\n",
        "# Remove the number 3 from the list\n",
        "numbers.remove(3)\n",
        "\n",
        "# Print the updated list\n",
        "print(\"Updated list:\", numbers)"
      ],
      "metadata": {
        "colab": {
          "base_uri": "https://localhost:8080/"
        },
        "id": "exEJXAuDdw_R",
        "outputId": "a7424c5d-20fa-4344-912b-6a62120e660e"
      },
      "execution_count": null,
      "outputs": [
        {
          "output_type": "stream",
          "name": "stdout",
          "text": [
            "Updated list: [1, 2, 4, 5]\n"
          ]
        }
      ]
    },
    {
      "cell_type": "markdown",
      "source": [
        "9. Write a code to access the second element in the list ['a', 'b', 'c', 'd'].\n"
      ],
      "metadata": {
        "id": "IIn4iV8WeABJ"
      }
    },
    {
      "cell_type": "code",
      "source": [
        "# Define the list\n",
        "letters = ['a', 'b', 'c', 'd']\n",
        "\n",
        "# Access the second element (index 1)\n",
        "second_element = letters[1]\n",
        "\n",
        "# Print the second element\n",
        "print(\"The second element is:\", second_element)"
      ],
      "metadata": {
        "colab": {
          "base_uri": "https://localhost:8080/"
        },
        "id": "ouc3HJGweC-g",
        "outputId": "003c43bc-49d2-452e-f468-b308ddb6c77c"
      },
      "execution_count": null,
      "outputs": [
        {
          "output_type": "stream",
          "name": "stdout",
          "text": [
            "The second element is: b\n"
          ]
        }
      ]
    },
    {
      "cell_type": "markdown",
      "source": [
        "10.  Write a code to reverse the list [10, 20, 30, 40, 50]."
      ],
      "metadata": {
        "id": "iRGJ9ziUeOv4"
      }
    },
    {
      "cell_type": "code",
      "source": [
        "# Define the list\n",
        "numbers = [10, 20, 30, 40, 50]\n",
        "\n",
        "# Reverse the list\n",
        "numbers.reverse()\n",
        "\n",
        "# Print the reversed list\n",
        "print(\"Reversed list:\", numbers)"
      ],
      "metadata": {
        "colab": {
          "base_uri": "https://localhost:8080/"
        },
        "id": "_2Z0O1ZteQ9Q",
        "outputId": "027c9e84-b338-4079-9631-bca169ffd962"
      },
      "execution_count": null,
      "outputs": [
        {
          "output_type": "stream",
          "name": "stdout",
          "text": [
            "Reversed list: [50, 40, 30, 20, 10]\n"
          ]
        }
      ]
    },
    {
      "cell_type": "markdown",
      "source": [
        "11. Write a code to create a tuple with the elements 100, 200, 300 and print it.\n"
      ],
      "metadata": {
        "id": "Aw_pp5OPGckx"
      }
    },
    {
      "cell_type": "code",
      "source": [
        "# Creating a tuple\n",
        "my_tuple = (100, 200, 300)\n",
        "\n",
        "# Printing the tuple\n",
        "print(my_tuple)"
      ],
      "metadata": {
        "colab": {
          "base_uri": "https://localhost:8080/"
        },
        "id": "fNjjFpYCGf3B",
        "outputId": "7b125d09-9559-46ff-cbda-4ff2546a4553"
      },
      "execution_count": 1,
      "outputs": [
        {
          "output_type": "stream",
          "name": "stdout",
          "text": [
            "(100, 200, 300)\n"
          ]
        }
      ]
    },
    {
      "cell_type": "markdown",
      "source": [
        "12. Write a code to access the second-to-last element of the tuple ('red', 'green', 'blue', 'yellow')."
      ],
      "metadata": {
        "id": "u6Qtn1PMGs3p"
      }
    },
    {
      "cell_type": "code",
      "source": [
        "# Define the tuple\n",
        "colors = ('red', 'green', 'blue', 'yellow')\n",
        "\n",
        "# Access the second-to-last element using negative indexing\n",
        "second_last = colors[-2]\n",
        "\n",
        "# Print the result\n",
        "print(\"Second-to-last element:\", second_last)"
      ],
      "metadata": {
        "colab": {
          "base_uri": "https://localhost:8080/"
        },
        "id": "aqG9XbAhGxtB",
        "outputId": "9ac56dea-7e8e-42e1-9878-6afca5191e5d"
      },
      "execution_count": 2,
      "outputs": [
        {
          "output_type": "stream",
          "name": "stdout",
          "text": [
            "Second-to-last element: blue\n"
          ]
        }
      ]
    },
    {
      "cell_type": "markdown",
      "source": [
        "13. Write a code to find the minimum number in the tuple (10, 20, 5, 15)."
      ],
      "metadata": {
        "id": "-tju10LXG77g"
      }
    },
    {
      "cell_type": "code",
      "source": [
        "# Define the tuple\n",
        "numbers = (10, 20, 5, 15)\n",
        "\n",
        "# Find the minimum number using min()\n",
        "min_number = min(numbers)\n",
        "\n",
        "# Print the result\n",
        "print(\"Minimum number:\", min_number)"
      ],
      "metadata": {
        "colab": {
          "base_uri": "https://localhost:8080/"
        },
        "id": "zEgGfkzgG_Bh",
        "outputId": "a10c9563-0410-48b9-b496-4d7f7a0fa989"
      },
      "execution_count": 3,
      "outputs": [
        {
          "output_type": "stream",
          "name": "stdout",
          "text": [
            "Minimum number: 5\n"
          ]
        }
      ]
    },
    {
      "cell_type": "markdown",
      "source": [
        "14. Write a code to find the index of the element \"cat\" in the tuple ('dog', 'cat', 'rabbit')."
      ],
      "metadata": {
        "id": "imw-_BkTHHcQ"
      }
    },
    {
      "cell_type": "code",
      "source": [
        "# Define the tuple\n",
        "animals = ('dog', 'cat', 'rabbit')\n",
        "\n",
        "# Find the index of \"cat\"\n",
        "cat_index = animals.index(\"cat\")\n",
        "\n",
        "# Print the result\n",
        "print(\"Index of 'cat':\", cat_index)"
      ],
      "metadata": {
        "colab": {
          "base_uri": "https://localhost:8080/"
        },
        "id": "r_0PXmslHIXY",
        "outputId": "9b4e81ef-fd17-49ff-ab8d-3495cef3af0b"
      },
      "execution_count": 4,
      "outputs": [
        {
          "output_type": "stream",
          "name": "stdout",
          "text": [
            "Index of 'cat': 1\n"
          ]
        }
      ]
    },
    {
      "cell_type": "markdown",
      "source": [
        "15. Write a code to create a tuple containing three different fruits and check if \"kiwi\" is in it."
      ],
      "metadata": {
        "id": "C3AhYSCuHUI4"
      }
    },
    {
      "cell_type": "code",
      "source": [
        "# Create a tuple with three fruits\n",
        "fruits = (\"apple\", \"banana\", \"mango\")\n",
        "\n",
        "# Check if \"kiwi\" is in the tuple\n",
        "if \"kiwi\" in fruits:\n",
        "    print(\"Yes, 'kiwi' is in the tuple.\")\n",
        "else:\n",
        "    print(\"No, 'kiwi' is not in the tuple.\")"
      ],
      "metadata": {
        "colab": {
          "base_uri": "https://localhost:8080/"
        },
        "id": "7LF_wU8oHUyJ",
        "outputId": "c9300877-c18f-4bca-e638-e40a3fe57b6a"
      },
      "execution_count": 5,
      "outputs": [
        {
          "output_type": "stream",
          "name": "stdout",
          "text": [
            "No, 'kiwi' is not in the tuple.\n"
          ]
        }
      ]
    },
    {
      "cell_type": "markdown",
      "source": [
        "16. Write a code to create a set with the elements 'a', 'b', 'c' and print it."
      ],
      "metadata": {
        "id": "hRCgvuasHdJP"
      }
    },
    {
      "cell_type": "code",
      "source": [
        "# Create a set with elements 'a', 'b', 'c'\n",
        "my_set = {'a', 'b', 'c'}\n",
        "\n",
        "# Print the set\n",
        "print(my_set)"
      ],
      "metadata": {
        "colab": {
          "base_uri": "https://localhost:8080/"
        },
        "id": "N4MCS7vJHffo",
        "outputId": "b994c06a-cdb0-4e34-cba7-c16c68380fa2"
      },
      "execution_count": 6,
      "outputs": [
        {
          "output_type": "stream",
          "name": "stdout",
          "text": [
            "{'c', 'a', 'b'}\n"
          ]
        }
      ]
    },
    {
      "cell_type": "markdown",
      "source": [
        "17. Write a code to clear all elements from the set {1, 2, 3, 4, 5}."
      ],
      "metadata": {
        "id": "_OQdChlsHnR_"
      }
    },
    {
      "cell_type": "code",
      "source": [
        "# Create the set\n",
        "numbers = {1, 2, 3, 4, 5}\n",
        "\n",
        "# Clear all elements from the set\n",
        "numbers.clear()\n",
        "\n",
        "# Print the set after clearing\n",
        "print(numbers)"
      ],
      "metadata": {
        "colab": {
          "base_uri": "https://localhost:8080/"
        },
        "id": "LrjatIobHoRH",
        "outputId": "aa59f730-d896-43d7-9500-67c6a61e850b"
      },
      "execution_count": 7,
      "outputs": [
        {
          "output_type": "stream",
          "name": "stdout",
          "text": [
            "set()\n"
          ]
        }
      ]
    },
    {
      "cell_type": "markdown",
      "source": [
        "18. Write a code to remove the element 4 from the set {1, 2, 3, 4}."
      ],
      "metadata": {
        "id": "FqOfU8rhHwUn"
      }
    },
    {
      "cell_type": "code",
      "source": [
        "# Create the set\n",
        "numbers = {1, 2, 3, 4}\n",
        "\n",
        "# Remove the element 4\n",
        "numbers.remove(4)\n",
        "\n",
        "# Print the updated set\n",
        "print(numbers)"
      ],
      "metadata": {
        "colab": {
          "base_uri": "https://localhost:8080/"
        },
        "id": "qYjKDUPmHxBf",
        "outputId": "99e4be6b-a0ca-4260-cd6d-f37c980bdcdc"
      },
      "execution_count": 8,
      "outputs": [
        {
          "output_type": "stream",
          "name": "stdout",
          "text": [
            "{1, 2, 3}\n"
          ]
        }
      ]
    },
    {
      "cell_type": "markdown",
      "source": [
        "19. Write a code to find the union of two sets {1, 2, 3} and {3, 4, 5}."
      ],
      "metadata": {
        "id": "5Q3zayKnH37-"
      }
    },
    {
      "cell_type": "code",
      "source": [
        "# Define two sets\n",
        "set1 = {1, 2, 3}\n",
        "set2 = {3, 4, 5}\n",
        "\n",
        "# Find the union\n",
        "union_set = set1.union(set2)\n",
        "\n",
        "# Print the result\n",
        "print(\"Union of sets:\", union_set)"
      ],
      "metadata": {
        "colab": {
          "base_uri": "https://localhost:8080/"
        },
        "id": "eAtSj4X1H6kX",
        "outputId": "28c0eecf-ec8d-495e-ee4f-66b731eb7a47"
      },
      "execution_count": 9,
      "outputs": [
        {
          "output_type": "stream",
          "name": "stdout",
          "text": [
            "Union of sets: {1, 2, 3, 4, 5}\n"
          ]
        }
      ]
    },
    {
      "cell_type": "markdown",
      "source": [
        "20. Write a code to find the intersection of two sets {1, 2, 3} and {2, 3, 4}."
      ],
      "metadata": {
        "id": "gtzHaWF8IBSH"
      }
    },
    {
      "cell_type": "code",
      "source": [
        "# Define two sets\n",
        "set1 = {1, 2, 3}\n",
        "set2 = {2, 3, 4}\n",
        "\n",
        "# Find the intersection\n",
        "intersection_set = set1.intersection(set2)\n",
        "\n",
        "# Print the result\n",
        "print(\"Intersection of sets:\", intersection_set)"
      ],
      "metadata": {
        "colab": {
          "base_uri": "https://localhost:8080/"
        },
        "id": "QNwPGzb5IDqf",
        "outputId": "9ce573a0-7874-4eb2-efd8-a0464a492b54"
      },
      "execution_count": 10,
      "outputs": [
        {
          "output_type": "stream",
          "name": "stdout",
          "text": [
            "Intersection of sets: {2, 3}\n"
          ]
        }
      ]
    },
    {
      "cell_type": "markdown",
      "source": [
        "21. Write a code to create a dictionary with the keys \"name\", \"age\", and \"city\", and print it."
      ],
      "metadata": {
        "id": "YGYBYyVDIKVu"
      }
    },
    {
      "cell_type": "code",
      "source": [
        "# Create the dictionary\n",
        "person = {\n",
        "    \"name\": \"John\",\n",
        "    \"age\": 25,\n",
        "    \"city\": \"New York\"\n",
        "}\n",
        "\n",
        "# Print the dictionary\n",
        "print(person)"
      ],
      "metadata": {
        "colab": {
          "base_uri": "https://localhost:8080/"
        },
        "id": "_pMpeF0cIMnO",
        "outputId": "e3baf467-d0ba-4866-9b07-c8068f322167"
      },
      "execution_count": 11,
      "outputs": [
        {
          "output_type": "stream",
          "name": "stdout",
          "text": [
            "{'name': 'John', 'age': 25, 'city': 'New York'}\n"
          ]
        }
      ]
    },
    {
      "cell_type": "markdown",
      "source": [
        "22. Write a code to add a new key-value pair \"country\": \"USA\" to the dictionary {'name': 'John', 'age': 25}."
      ],
      "metadata": {
        "id": "OSkODkwrITI2"
      }
    },
    {
      "cell_type": "code",
      "source": [
        "# Create the dictionary\n",
        "person = {\n",
        "    'name': 'John',\n",
        "    'age': 25\n",
        "}\n",
        "\n",
        "# Add a new key-value pair\n",
        "person['country'] = 'USA'\n",
        "\n",
        "# Print the updated dictionary\n",
        "print(person)"
      ],
      "metadata": {
        "colab": {
          "base_uri": "https://localhost:8080/"
        },
        "id": "RulMyKQ0IT4u",
        "outputId": "29c73a6f-5224-4646-c8b6-ad6dff43f55e"
      },
      "execution_count": 12,
      "outputs": [
        {
          "output_type": "stream",
          "name": "stdout",
          "text": [
            "{'name': 'John', 'age': 25, 'country': 'USA'}\n"
          ]
        }
      ]
    },
    {
      "cell_type": "markdown",
      "source": [
        "23. Write a code to access the value associated with the key \"name\" in the dictionary {'name': 'Alice', 'age': 30}."
      ],
      "metadata": {
        "id": "gwbpdkRcIdFm"
      }
    },
    {
      "cell_type": "code",
      "source": [
        "# Create the dictionary\n",
        "person = {\n",
        "    'name': 'Alice',\n",
        "    'age': 30\n",
        "}\n",
        "\n",
        "# Access the value associated with the key \"name\"\n",
        "name_value = person['name']\n",
        "\n",
        "# Print the value\n",
        "print(\"Name:\", name_value)"
      ],
      "metadata": {
        "colab": {
          "base_uri": "https://localhost:8080/"
        },
        "id": "FeVht642IeD2",
        "outputId": "f8304168-1745-4398-9093-c7319f2e0aac"
      },
      "execution_count": 13,
      "outputs": [
        {
          "output_type": "stream",
          "name": "stdout",
          "text": [
            "Name: Alice\n"
          ]
        }
      ]
    },
    {
      "cell_type": "markdown",
      "source": [
        "24. Write a code to remove the key \"age\" from the dictionary {'name': 'Bob', 'age': 22, 'city': 'New York'}."
      ],
      "metadata": {
        "id": "sN7Xz1MDIkyl"
      }
    },
    {
      "cell_type": "code",
      "source": [
        "# Create the dictionary\n",
        "person = {\n",
        "    'name': 'Bob',\n",
        "    'age': 22,\n",
        "    'city': 'New York'\n",
        "}\n",
        "\n",
        "# Remove the key \"age\"\n",
        "del person['age']\n",
        "\n",
        "# Print the updated dictionary\n",
        "print(person)"
      ],
      "metadata": {
        "colab": {
          "base_uri": "https://localhost:8080/"
        },
        "id": "xveAgTPbIlsW",
        "outputId": "8e9851c7-128a-429a-aa1f-4693ef503dc4"
      },
      "execution_count": 14,
      "outputs": [
        {
          "output_type": "stream",
          "name": "stdout",
          "text": [
            "{'name': 'Bob', 'city': 'New York'}\n"
          ]
        }
      ]
    },
    {
      "cell_type": "markdown",
      "source": [
        "25. Write a code to check if the key \"city\" exists in the dictionary {'name': 'Alice', 'city': 'Paris'}."
      ],
      "metadata": {
        "id": "saRKQhCoIsI9"
      }
    },
    {
      "cell_type": "code",
      "source": [
        "# Create the dictionary\n",
        "person = {\n",
        "    'name': 'Alice',\n",
        "    'city': 'Paris'\n",
        "}\n",
        "\n",
        "# Check if the key \"city\" exists in the dictionary\n",
        "if 'city' in person:\n",
        "    print(\"The key 'city' exists in the dictionary.\")\n",
        "else:\n",
        "    print(\"The key 'city' does not exist in the dictionary.\")"
      ],
      "metadata": {
        "colab": {
          "base_uri": "https://localhost:8080/"
        },
        "id": "TF0Y_5YNIu1u",
        "outputId": "5f8dc416-8336-46dc-e241-c899ff8e93ad"
      },
      "execution_count": 15,
      "outputs": [
        {
          "output_type": "stream",
          "name": "stdout",
          "text": [
            "The key 'city' exists in the dictionary.\n"
          ]
        }
      ]
    },
    {
      "cell_type": "markdown",
      "source": [
        "26. Write a code to create a list, a tuple, and a dictionary, and print them all."
      ],
      "metadata": {
        "id": "bPHjuEJBI0eF"
      }
    },
    {
      "cell_type": "code",
      "source": [
        "# Create a list\n",
        "my_list = [1, 2, 3, 4, 5]\n",
        "\n",
        "# Create a tuple\n",
        "my_tuple = ('apple', 'banana', 'cherry')\n",
        "\n",
        "# Create a dictionary\n",
        "my_dict = {'name': 'John', 'age': 25, 'city': 'New York'}\n",
        "\n",
        "# Print the list, tuple, and dictionary\n",
        "print(\"List:\", my_list)\n",
        "print(\"Tuple:\", my_tuple)\n",
        "print(\"Dictionary:\", my_dict)"
      ],
      "metadata": {
        "colab": {
          "base_uri": "https://localhost:8080/"
        },
        "id": "r37_ulrKI2rN",
        "outputId": "5a633513-0bfa-43c2-fddd-498e8960a800"
      },
      "execution_count": 16,
      "outputs": [
        {
          "output_type": "stream",
          "name": "stdout",
          "text": [
            "List: [1, 2, 3, 4, 5]\n",
            "Tuple: ('apple', 'banana', 'cherry')\n",
            "Dictionary: {'name': 'John', 'age': 25, 'city': 'New York'}\n"
          ]
        }
      ]
    },
    {
      "cell_type": "markdown",
      "source": [
        "27. Write a code to create a list of 5 random numbers between 1 and 100, sort it in ascending order, and print the\n",
        "result.(replaced)"
      ],
      "metadata": {
        "id": "S4zpIsinJR5U"
      }
    },
    {
      "cell_type": "code",
      "source": [
        "import random\n",
        "\n",
        "# Create a list of 5 random numbers between 1 and 100\n",
        "random_numbers = [random.randint(1, 100) for _ in range(5)]\n",
        "\n",
        "# Sort the list in ascending order\n",
        "random_numbers.sort()\n",
        "\n",
        "# Print the sorted list\n",
        "print(\"Sorted random numbers:\", random_numbers)"
      ],
      "metadata": {
        "colab": {
          "base_uri": "https://localhost:8080/"
        },
        "id": "sVKryN7qJb7c",
        "outputId": "510fef77-110b-48c0-f6e5-1ae16654ee0a"
      },
      "execution_count": 18,
      "outputs": [
        {
          "output_type": "stream",
          "name": "stdout",
          "text": [
            "Sorted random numbers: [2, 23, 30, 40, 77]\n"
          ]
        }
      ]
    },
    {
      "cell_type": "markdown",
      "source": [
        "28. Write a code to create a list with strings and print the element at the third index."
      ],
      "metadata": {
        "id": "AQLnX5jaJdmc"
      }
    },
    {
      "cell_type": "code",
      "source": [
        "# Create a list with strings\n",
        "my_list = [\"apple\", \"banana\", \"cherry\", \"date\", \"elderberry\"]\n",
        "\n",
        "# Print the element at the third index (index 3)\n",
        "print(\"Element at index 3:\", my_list[3])"
      ],
      "metadata": {
        "colab": {
          "base_uri": "https://localhost:8080/"
        },
        "id": "hMD_V1FuJf6s",
        "outputId": "1e2553d1-b9ac-4662-a8d7-0dc8ae19c2fc"
      },
      "execution_count": 19,
      "outputs": [
        {
          "output_type": "stream",
          "name": "stdout",
          "text": [
            "Element at index 3: date\n"
          ]
        }
      ]
    },
    {
      "cell_type": "markdown",
      "source": [
        "29. Write a code to combine two dictionaries into one and print the result."
      ],
      "metadata": {
        "id": "v-eg0qieJnIj"
      }
    },
    {
      "cell_type": "code",
      "source": [
        "# Create two dictionaries\n",
        "dict1 = {'name': 'Alice', 'age': 25}\n",
        "dict2 = {'city': 'New York', 'country': 'USA'}\n",
        "\n",
        "# Combine the dictionaries\n",
        "combined_dict = {**dict1, **dict2}\n",
        "\n",
        "# Print the combined dictionary\n",
        "print(\"Combined Dictionary:\", combined_dict)"
      ],
      "metadata": {
        "colab": {
          "base_uri": "https://localhost:8080/"
        },
        "id": "LDv4f7CSJof8",
        "outputId": "189f8c9e-d14a-4439-88bd-769e88c71750"
      },
      "execution_count": 20,
      "outputs": [
        {
          "output_type": "stream",
          "name": "stdout",
          "text": [
            "Combined Dictionary: {'name': 'Alice', 'age': 25, 'city': 'New York', 'country': 'USA'}\n"
          ]
        }
      ]
    },
    {
      "cell_type": "markdown",
      "source": [
        "30. Write a code to convert a list of strings into a set."
      ],
      "metadata": {
        "id": "IM2H2AwgJ-TT"
      }
    },
    {
      "cell_type": "code",
      "source": [
        "# Create a list of strings\n",
        "my_list = [\"apple\", \"banana\", \"cherry\", \"apple\", \"banana\"]\n",
        "\n",
        "# Convert the list into a set to remove duplicates\n",
        "my_set = set(my_list)\n",
        "\n",
        "# Print the set\n",
        "print(\"Converted set:\", my_set)"
      ],
      "metadata": {
        "colab": {
          "base_uri": "https://localhost:8080/"
        },
        "id": "W3RzSq6wJ_ET",
        "outputId": "115f5d44-80e8-41a2-a95b-e3d3f4c366ff"
      },
      "execution_count": 21,
      "outputs": [
        {
          "output_type": "stream",
          "name": "stdout",
          "text": [
            "Converted set: {'cherry', 'banana', 'apple'}\n"
          ]
        }
      ]
    }
  ]
}